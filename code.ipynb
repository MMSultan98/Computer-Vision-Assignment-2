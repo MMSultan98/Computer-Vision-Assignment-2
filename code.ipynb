{
 "cells": [
  {
   "cell_type": "markdown",
   "metadata": {},
   "source": [
    "Imports"
   ]
  },
  {
   "cell_type": "code",
   "execution_count": 1,
   "metadata": {},
   "outputs": [],
   "source": [
    "import os\n",
    "import sys\n",
    "import math\n",
    "import numpy as np\n",
    "from PIL import Image"
   ]
  },
  {
   "cell_type": "markdown",
   "metadata": {},
   "source": [
    "### Helper functions"
   ]
  },
  {
   "cell_type": "markdown",
   "metadata": {},
   "source": [
    "Function to normalize a 2d array"
   ]
  },
  {
   "cell_type": "code",
   "execution_count": 2,
   "metadata": {},
   "outputs": [],
   "source": [
    "def GetMaxValue(image_array):\n",
    "    x, y = image_array.shape\n",
    "    max_value = 0\n",
    "    for i in range(x):\n",
    "        for j in range(y):\n",
    "            value = image_array[i][j]\n",
    "            if value > max_value:\n",
    "                max_value = value\n",
    "    return max_value\n",
    "\n",
    "def NormalizeArray(image_array):\n",
    "    x, y = image_array.shape\n",
    "    max_value = GetMaxValue(image_array)\n",
    "    normalized_image_array = np.copy(image_array)\n",
    "    for i in range(x):\n",
    "        for j in range(y):\n",
    "            old_value = image_array[i][j]\n",
    "            new_value = round(old_value / max_value * 255)\n",
    "            normalized_image_array[i][j] = new_value\n",
    "    return normalized_image_array"
   ]
  },
  {
   "cell_type": "markdown",
   "metadata": {},
   "source": [
    "Function to convert a greyscale image to 2D array"
   ]
  },
  {
   "cell_type": "code",
   "execution_count": 3,
   "metadata": {},
   "outputs": [],
   "source": [
    "def ImageToArray(image):\n",
    "    image_array = np.array(image.getdata(), dtype=np.uint8)\n",
    "    image_array = image_array.reshape(image.size)\n",
    "    return image_array"
   ]
  },
  {
   "cell_type": "markdown",
   "metadata": {},
   "source": [
    "Function to convert a 2d array to an image"
   ]
  },
  {
   "cell_type": "code",
   "execution_count": 4,
   "metadata": {},
   "outputs": [],
   "source": [
    "def ArrayToImage(image_array):\n",
    "    x, y = image_array.shape\n",
    "    image = Image.new(\"L\", (x, y))\n",
    "    for i in range(x):\n",
    "        for j in range(y):\n",
    "            value = int(image_array[i][j])\n",
    "            image.putpixel((i, j), value)\n",
    "    return image"
   ]
  },
  {
   "cell_type": "markdown",
   "metadata": {},
   "source": [
    "### Main functions"
   ]
  },
  {
   "cell_type": "markdown",
   "metadata": {},
   "source": [
    "CalculateIntegral function"
   ]
  },
  {
   "cell_type": "code",
   "execution_count": 5,
   "metadata": {},
   "outputs": [],
   "source": [
    "def CalculateIntegral(image):\n",
    "    x, y = image.size\n",
    "    row_sums = np.zeros((x+1, y+1), dtype=np.uint32)\n",
    "    integral_image = np.zeros((x+1, y+1), dtype=np.uint32)\n",
    "    for i in range(x):\n",
    "        for j in range(y):\n",
    "            r = i+1\n",
    "            c = j+1\n",
    "            row_sums[r][c] = row_sums[r][c-1] + image.getpixel((i, j))\n",
    "            integral_image[r][c] = integral_image[r-1][c] + row_sums[r][c]\n",
    "    integral_image = np.delete(integral_image, 0, axis=0)\n",
    "    integral_image = np.delete(integral_image, 0, axis=1)\n",
    "    return integral_image"
   ]
  },
  {
   "cell_type": "markdown",
   "metadata": {},
   "source": [
    "CalculateLocalSum function"
   ]
  },
  {
   "cell_type": "code",
   "execution_count": 6,
   "metadata": {},
   "outputs": [],
   "source": [
    "def CalculateLocalSum(integral_image, p0, p1):\n",
    "    x0, y0 = p0\n",
    "    x1, y1 = p1\n",
    "    sum_x = integral_image[x0][y0]\n",
    "    sum_y = integral_image[x1][y0]\n",
    "    sum_z = integral_image[x0][y1]\n",
    "    sum_k = integral_image[x1][y1]\n",
    "    local_sum = sum_k + sum_x - sum_z - sum_y\n",
    "    return local_sum"
   ]
  },
  {
   "cell_type": "markdown",
   "metadata": {},
   "source": [
    "DetectEye function"
   ]
  },
  {
   "cell_type": "code",
   "execution_count": 7,
   "metadata": {},
   "outputs": [],
   "source": [
    "def CalculateKernel(integral_image, p, d):\n",
    "    i, j = p\n",
    "    n, m = d\n",
    "    \n",
    "    p1 = (i - math.floor(0.5*n), j - math.floor(0.5*m))\n",
    "    p2 = (i - math.floor(0.05*n), j)\n",
    "    p3 = (i - math.floor(0.5*n), j)\n",
    "    p4 = (i - math.floor(0.05*n), j + math.floor(0.5*m))\n",
    "    p5 = (i + math.floor(0.05*n), j - math.floor(0.5*m))\n",
    "    p6 = (i + math.floor(0.5*n), j)\n",
    "    p7 = (i + math.floor(0.05*n), j)\n",
    "    p8 = (i + math.floor(0.5*n), j + math.floor(0.5*m))\n",
    "    p9 = (i - math.floor(0.325*n), j + math.floor(0.833*m))\n",
    "    p10 = (i - math.floor(0.225*n), j + 2*m)\n",
    "    p11 = (i - math.floor(0.1*n), j + math.floor(0.833*m))\n",
    "    p12 = (i + math.floor(0.1*n), j + 2*m)\n",
    "    p13 = (i + math.floor(0.225*n), j + math.floor(0.833*m))\n",
    "    p14 = (i + math.floor(0.325*n), j + 2*m)\n",
    "\n",
    "    score = 0\n",
    "    score += CalculateLocalSum(integral_image, p1, p2)\n",
    "    score -= CalculateLocalSum(integral_image, p3, p4)\n",
    "    score += CalculateLocalSum(integral_image, p5, p6)\n",
    "    score -= CalculateLocalSum(integral_image, p7, p8)\n",
    "    score -= CalculateLocalSum(integral_image, p9, p10)\n",
    "    score += CalculateLocalSum(integral_image, p11, p12)\n",
    "    score -= CalculateLocalSum(integral_image, p13, p14)\n",
    "    \n",
    "    return score"
   ]
  },
  {
   "cell_type": "code",
   "execution_count": 8,
   "metadata": {},
   "outputs": [],
   "source": [
    "def DetectEye(integral_image, n):\n",
    "    x, y = integral_image.shape\n",
    "    m = round(0.15 * n)\n",
    "    if n % 2 == 0:\n",
    "        n -= 1\n",
    "    if math.ceil(m) % 2 != 0:\n",
    "        m = math.ceil(m)\n",
    "    else:\n",
    "        m = math.floor(m)\n",
    "    \n",
    "    i_start = math.floor(n / 2)\n",
    "    i_end = x - math.floor(n / 2)\n",
    "    j_start = math.floor(m / 2)\n",
    "    j_end = y - math.floor(2.5 * m)\n",
    "    max_score = -sys.maxsize\n",
    "    max_score_point = (0, 0)\n",
    "    for i in range(i_start, i_end):\n",
    "        for j in range(j_start, j_end):\n",
    "            score = CalculateKernel(integral_image, (i, j), (n, m))\n",
    "            if score > max_score:\n",
    "                max_score = score\n",
    "                max_score_point = (i, j)\n",
    "    return max_score_point"
   ]
  },
  {
   "cell_type": "markdown",
   "metadata": {},
   "source": [
    "ExtractDetectedEye function"
   ]
  },
  {
   "cell_type": "code",
   "execution_count": 9,
   "metadata": {},
   "outputs": [],
   "source": [
    "def ExtractDetectedEye(image, p_max, n):\n",
    "    x_max, y_max = p_max\n",
    "    m = round(0.15 * n)\n",
    "    if n % 2 == 0:\n",
    "        n -= 1\n",
    "    if math.ceil(m) % 2 != 0:\n",
    "        m = math.ceil(m)\n",
    "    else:\n",
    "        m = math.floor(m)\n",
    "    \n",
    "    i_start = x_max - math.floor(n / 2)\n",
    "    i_end = x_max + math.floor(n / 2)\n",
    "    j_start = y_max - math.floor(m / 2)\n",
    "    j_end = y_max + math.floor(2.5 * m)\n",
    "    output_image_array = np.zeros(image.size)\n",
    "    for i in range(i_start, i_end):\n",
    "        for j in range(j_start, j_end):\n",
    "            output_image_array[i][j] = image.getpixel((i, j))\n",
    "    return output_image_array"
   ]
  },
  {
   "cell_type": "markdown",
   "metadata": {},
   "source": [
    "### Test"
   ]
  },
  {
   "cell_type": "markdown",
   "metadata": {},
   "source": [
    "Test Part 1"
   ]
  },
  {
   "cell_type": "code",
   "execution_count": null,
   "metadata": {},
   "outputs": [],
   "source": [
    "image_array = np.full((200, 200), 100, dtype=np.uint8)\n",
    "image = ArrayToImage(image_array)"
   ]
  },
  {
   "cell_type": "code",
   "execution_count": null,
   "metadata": {},
   "outputs": [],
   "source": [
    "integral_image = CalculateIntegral(image)\n",
    "ArrayToImage(NormalizeArray(integral_image))"
   ]
  },
  {
   "cell_type": "code",
   "execution_count": null,
   "metadata": {},
   "outputs": [],
   "source": [
    "CalculateLocalSum(integral_image, (20, 20), (30, 30))"
   ]
  },
  {
   "cell_type": "markdown",
   "metadata": {},
   "source": [
    "Test Part 2"
   ]
  },
  {
   "cell_type": "code",
   "execution_count": 19,
   "metadata": {},
   "outputs": [],
   "source": [
    "current_directory = os.getcwd()\n",
    "image_path = current_directory + R\"\\images\\f2.png\"\n",
    "image = Image.open(image_path)\n",
    "image = image.convert(\"L\")\n",
    "n = 330"
   ]
  },
  {
   "cell_type": "code",
   "execution_count": 20,
   "metadata": {},
   "outputs": [],
   "source": [
    "integral_image = CalculateIntegral(image)\n",
    "p_max = DetectEye(integral_image, n)\n",
    "detected_eye_image_array = ExtractDetectedEye(image, p_max, n)\n",
    "detected_eye_image = ArrayToImage(detected_eye_image_array)\n",
    "detected_eye_image.save(current_directory + R\"\\f2.jpg\")"
   ]
  }
 ],
 "metadata": {
  "interpreter": {
   "hash": "b3ba2566441a7c06988d0923437866b63cedc61552a5af99d1f4fb67d367b25f"
  },
  "kernelspec": {
   "display_name": "Python 3.8.12 64-bit ('base': conda)",
   "language": "python",
   "name": "python3"
  },
  "language_info": {
   "codemirror_mode": {
    "name": "ipython",
    "version": 3
   },
   "file_extension": ".py",
   "mimetype": "text/x-python",
   "name": "python",
   "nbconvert_exporter": "python",
   "pygments_lexer": "ipython3",
   "version": "3.8.12"
  },
  "orig_nbformat": 4
 },
 "nbformat": 4,
 "nbformat_minor": 2
}

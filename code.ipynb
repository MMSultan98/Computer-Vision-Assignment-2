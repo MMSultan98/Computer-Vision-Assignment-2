{
 "cells": [
  {
   "cell_type": "markdown",
   "metadata": {},
   "source": [
    "Imports"
   ]
  },
  {
   "cell_type": "code",
   "execution_count": null,
   "metadata": {},
   "outputs": [],
   "source": [
    "import os\n",
    "import numpy as np\n",
    "from PIL import Image"
   ]
  },
  {
   "cell_type": "markdown",
   "metadata": {},
   "source": [
    "### Helper functions"
   ]
  },
  {
   "cell_type": "markdown",
   "metadata": {},
   "source": [
    "Function to add RGB components"
   ]
  },
  {
   "cell_type": "code",
   "execution_count": null,
   "metadata": {},
   "outputs": [],
   "source": [
    "def AddRGB(rgb1, rgb2):\n",
    "    rgb_sum = []\n",
    "    rgb_sum.append(rgb1[0] + rgb2[0])\n",
    "    rgb_sum.append(rgb1[1] + rgb2[1])\n",
    "    rgb_sum.append(rgb1[2] + rgb2[2])\n",
    "    return rgb_sum"
   ]
  },
  {
   "cell_type": "markdown",
   "metadata": {},
   "source": [
    "Function to subtract RGB components"
   ]
  },
  {
   "cell_type": "code",
   "execution_count": null,
   "metadata": {},
   "outputs": [],
   "source": [
    "def SubRGB(rgb1, rgb2):\n",
    "    rgb_diff = []\n",
    "    rgb_diff.append(rgb1[0] - rgb2[0])\n",
    "    rgb_diff.append(rgb1[1] - rgb2[1])\n",
    "    rgb_diff.append(rgb1[2] - rgb2[2])\n",
    "    return rgb_diff"
   ]
  },
  {
   "cell_type": "markdown",
   "metadata": {},
   "source": [
    "Function to normalize 3d array"
   ]
  },
  {
   "cell_type": "code",
   "execution_count": null,
   "metadata": {},
   "outputs": [],
   "source": [
    "def GetMaxValue(image_array):\n",
    "    x, y, *_ = image_array.shape\n",
    "    max_value = 0\n",
    "    for i in range(x):\n",
    "        for j in range(y):\n",
    "            r, g, b = image_array[i][j]\n",
    "            if r > max_value:\n",
    "                max_value = r\n",
    "            elif g > max_value:\n",
    "                max_value = g\n",
    "            elif b > max_value:\n",
    "                max_value = b\n",
    "    return max_value\n",
    "\n",
    "def NormalizeArray(image_array):\n",
    "    x, y, *_ = image_array.shape\n",
    "    max_value = GetMaxValue(image_array)\n",
    "    normalized_image_array = np.copy(image_array)\n",
    "    for i in range(x):\n",
    "        for j in range(y):\n",
    "            r, g, b = image_array[i][j]\n",
    "            r1 = round(r / max_value * 255)\n",
    "            g1 = round(g / max_value * 255)\n",
    "            b1 = round(b / max_value * 255)\n",
    "            normalized_image_array[i][j] = [r1, g1, b1]\n",
    "    return normalized_image_array"
   ]
  },
  {
   "cell_type": "markdown",
   "metadata": {},
   "source": [
    "Function to convert 3d array to an image"
   ]
  },
  {
   "cell_type": "code",
   "execution_count": null,
   "metadata": {},
   "outputs": [],
   "source": [
    "def ArrayToImage(image_array):\n",
    "    x, y, *_ = image_array.shape\n",
    "    image = Image.new(\"RGB\", (x, y))\n",
    "    for i in range(x):\n",
    "        for j in range(y):\n",
    "            image.putpixel((i, j), tuple(image_array[i][j]))\n",
    "    return image"
   ]
  },
  {
   "cell_type": "markdown",
   "metadata": {},
   "source": [
    "### Main functions"
   ]
  },
  {
   "cell_type": "markdown",
   "metadata": {},
   "source": [
    "CalculateIntegral function"
   ]
  },
  {
   "cell_type": "code",
   "execution_count": null,
   "metadata": {},
   "outputs": [],
   "source": [
    "def CalculateIntegral(image):\n",
    "    x, y = image.size\n",
    "    row_sums = np.zeros((x+1, y+1, 3), dtype=np.uint32)\n",
    "    integral_image = np.zeros((x+1, y+1, 3), dtype=np.uint32)\n",
    "    for i in range(x):\n",
    "        for j in range(y):\n",
    "            r = i+1\n",
    "            c = j+1\n",
    "            row_sums[r][c] = AddRGB(row_sums[r][c-1], image.getpixel((i, j)))\n",
    "            integral_image[r][c] = AddRGB(integral_image[r-1][c], row_sums[r][c])\n",
    "    integral_image = np.delete(integral_image, 0, axis=0)\n",
    "    integral_image = np.delete(integral_image, 0, axis=1)\n",
    "    return integral_image"
   ]
  },
  {
   "cell_type": "markdown",
   "metadata": {},
   "source": [
    "CalculateLocalSum function"
   ]
  },
  {
   "cell_type": "code",
   "execution_count": null,
   "metadata": {},
   "outputs": [],
   "source": [
    "def CalculateLocalSum(integral_image, p0, p1):\n",
    "    x0, y0 = p0\n",
    "    x1, y1 = p1\n",
    "    sum_x = integral_image[x0][y0]\n",
    "    sum_y = integral_image[x0][y1]\n",
    "    sum_z = integral_image[x1][y0]\n",
    "    sum_k = integral_image[x1][y1]\n",
    "    local_sum = AddRGB(sum_k, sum_x)\n",
    "    local_sum = SubRGB(local_sum, sum_z)\n",
    "    local_sum = SubRGB(local_sum, sum_y)\n",
    "    return local_sum"
   ]
  },
  {
   "cell_type": "markdown",
   "metadata": {},
   "source": [
    "### Test"
   ]
  },
  {
   "cell_type": "markdown",
   "metadata": {},
   "source": [
    "Test 1"
   ]
  },
  {
   "cell_type": "code",
   "execution_count": null,
   "metadata": {},
   "outputs": [],
   "source": [
    "image_array = np.full((200, 200, 3), 100)\n",
    "image = ArrayToImage(image_array)"
   ]
  },
  {
   "cell_type": "code",
   "execution_count": null,
   "metadata": {},
   "outputs": [],
   "source": [
    "integral_image = CalculateIntegral(image)\n",
    "ArrayToImage(NormalizeArray(integral_image))"
   ]
  },
  {
   "cell_type": "code",
   "execution_count": null,
   "metadata": {},
   "outputs": [],
   "source": [
    "CalculateLocalSum(integral_image, (20, 20), (30, 30))"
   ]
  },
  {
   "cell_type": "markdown",
   "metadata": {},
   "source": [
    "Test 2"
   ]
  },
  {
   "cell_type": "code",
   "execution_count": null,
   "metadata": {},
   "outputs": [],
   "source": [
    "current_directory = os.getcwd()\n",
    "image_path = current_directory + R\"\\images\\f2.png\"\n",
    "image = Image.open(image_path)"
   ]
  }
 ],
 "metadata": {
  "interpreter": {
   "hash": "b3ba2566441a7c06988d0923437866b63cedc61552a5af99d1f4fb67d367b25f"
  },
  "kernelspec": {
   "display_name": "Python 3.8.12 64-bit ('base': conda)",
   "language": "python",
   "name": "python3"
  },
  "language_info": {
   "codemirror_mode": {
    "name": "ipython",
    "version": 3
   },
   "file_extension": ".py",
   "mimetype": "text/x-python",
   "name": "python",
   "nbconvert_exporter": "python",
   "pygments_lexer": "ipython3",
   "version": "3.8.12"
  },
  "orig_nbformat": 4
 },
 "nbformat": 4,
 "nbformat_minor": 2
}

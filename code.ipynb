{
 "cells": [
  {
   "cell_type": "markdown",
   "metadata": {},
   "source": [
    "Imports"
   ]
  },
  {
   "cell_type": "code",
   "execution_count": null,
   "metadata": {},
   "outputs": [],
   "source": [
    "import os\n",
    "import numpy as np\n",
    "from PIL import Image"
   ]
  },
  {
   "cell_type": "markdown",
   "metadata": {},
   "source": [
    "### Helper functions"
   ]
  },
  {
   "cell_type": "markdown",
   "metadata": {},
   "source": [
    "Function to normalize a 2d array"
   ]
  },
  {
   "cell_type": "code",
   "execution_count": null,
   "metadata": {},
   "outputs": [],
   "source": [
    "def GetMaxValue(image_array):\n",
    "    x, y = image_array.shape\n",
    "    max_value = 0\n",
    "    for i in range(x):\n",
    "        for j in range(y):\n",
    "            value = image_array[i][j]\n",
    "            if value > max_value:\n",
    "                max_value = value\n",
    "    return max_value\n",
    "\n",
    "def NormalizeArray(image_array):\n",
    "    x, y = image_array.shape\n",
    "    max_value = GetMaxValue(image_array)\n",
    "    normalized_image_array = np.copy(image_array)\n",
    "    for i in range(x):\n",
    "        for j in range(y):\n",
    "            old_value = image_array[i][j]\n",
    "            new_value = round(old_value / max_value * 255)\n",
    "            normalized_image_array[i][j] = new_value\n",
    "    return normalized_image_array"
   ]
  },
  {
   "cell_type": "markdown",
   "metadata": {},
   "source": [
    "Function to convert a greyscale image to 2D array"
   ]
  },
  {
   "cell_type": "code",
   "execution_count": null,
   "metadata": {},
   "outputs": [],
   "source": [
    "def ImageToArray(image):\n",
    "    image_array = np.array(image.getdata(), dtype=np.uint8)\n",
    "    image_array = image_array.reshape(image.size)\n",
    "    return image_array"
   ]
  },
  {
   "cell_type": "markdown",
   "metadata": {},
   "source": [
    "Function to convert a 2d array to an image"
   ]
  },
  {
   "cell_type": "code",
   "execution_count": null,
   "metadata": {},
   "outputs": [],
   "source": [
    "def ArrayToImage(image_array):\n",
    "    x, y = image_array.shape\n",
    "    image = Image.new(\"L\", (x, y))\n",
    "    for i in range(x):\n",
    "        for j in range(y):\n",
    "            value = int(image_array[i][j])\n",
    "            image.putpixel((i, j), value)\n",
    "    return image"
   ]
  },
  {
   "cell_type": "markdown",
   "metadata": {},
   "source": [
    "### Main functions"
   ]
  },
  {
   "cell_type": "markdown",
   "metadata": {},
   "source": [
    "CalculateIntegral function"
   ]
  },
  {
   "cell_type": "code",
   "execution_count": null,
   "metadata": {},
   "outputs": [],
   "source": [
    "def CalculateIntegral(image_array):\n",
    "    x, y = image_array.shape\n",
    "    row_sums = np.zeros((x+1, y+1), dtype=np.uint32)\n",
    "    integral_image = np.zeros((x+1, y+1), dtype=np.uint32)\n",
    "    for i in range(x):\n",
    "        for j in range(y):\n",
    "            r = i+1\n",
    "            c = j+1\n",
    "            row_sums[r][c] = row_sums[r][c-1] + image_array[i][j]\n",
    "            integral_image[r][c] = integral_image[r-1][c] + row_sums[r][c]\n",
    "    integral_image = np.delete(integral_image, 0, axis=0)\n",
    "    integral_image = np.delete(integral_image, 0, axis=1)\n",
    "    return integral_image"
   ]
  },
  {
   "cell_type": "markdown",
   "metadata": {},
   "source": [
    "CalculateLocalSum function"
   ]
  },
  {
   "cell_type": "code",
   "execution_count": null,
   "metadata": {},
   "outputs": [],
   "source": [
    "def CalculateLocalSum(integral_image, p0, p1):\n",
    "    x0, y0 = p0\n",
    "    x1, y1 = p1\n",
    "    sum_x = integral_image[x0][y0]\n",
    "    sum_y = integral_image[x0][y1]\n",
    "    sum_z = integral_image[x1][y0]\n",
    "    sum_k = integral_image[x1][y1]\n",
    "    local_sum = sum_k + sum_x - sum_z - sum_y\n",
    "    return local_sum"
   ]
  },
  {
   "cell_type": "markdown",
   "metadata": {},
   "source": [
    "### Test"
   ]
  },
  {
   "cell_type": "markdown",
   "metadata": {},
   "source": [
    "Test 1"
   ]
  },
  {
   "cell_type": "code",
   "execution_count": null,
   "metadata": {},
   "outputs": [],
   "source": [
    "image_array = np.full((200, 200), 100, dtype=np.uint8)\n",
    "image = ArrayToImage(image_array)"
   ]
  },
  {
   "cell_type": "code",
   "execution_count": null,
   "metadata": {},
   "outputs": [],
   "source": [
    "integral_image = CalculateIntegral(image_array)\n",
    "ArrayToImage(NormalizeArray(integral_image))"
   ]
  },
  {
   "cell_type": "code",
   "execution_count": null,
   "metadata": {},
   "outputs": [],
   "source": [
    "CalculateLocalSum(integral_image, (20, 20), (30, 30))"
   ]
  },
  {
   "cell_type": "markdown",
   "metadata": {},
   "source": [
    "Test 2"
   ]
  },
  {
   "cell_type": "code",
   "execution_count": null,
   "metadata": {},
   "outputs": [],
   "source": [
    "current_directory = os.getcwd()\n",
    "image_path = current_directory + R\"\\images\\f2.png\"\n",
    "image = Image.open(image_path)\n",
    "image = image.convert(\"L\")\n",
    "image_array = ImageToArray(image)"
   ]
  }
 ],
 "metadata": {
  "interpreter": {
   "hash": "b3ba2566441a7c06988d0923437866b63cedc61552a5af99d1f4fb67d367b25f"
  },
  "kernelspec": {
   "display_name": "Python 3.8.12 64-bit ('base': conda)",
   "language": "python",
   "name": "python3"
  },
  "language_info": {
   "codemirror_mode": {
    "name": "ipython",
    "version": 3
   },
   "file_extension": ".py",
   "mimetype": "text/x-python",
   "name": "python",
   "nbconvert_exporter": "python",
   "pygments_lexer": "ipython3",
   "version": "3.8.12"
  },
  "orig_nbformat": 4
 },
 "nbformat": 4,
 "nbformat_minor": 2
}
